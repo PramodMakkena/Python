{
 "cells": [
  {
   "cell_type": "code",
   "execution_count": 1,
   "metadata": {},
   "outputs": [
    {
     "name": "stdout",
     "output_type": "stream",
     "text": [
      "Enter the Radius: 3\n",
      "28.26\n",
      "18.84\n"
     ]
    }
   ],
   "source": [
    "class Circle:\n",
    "    \n",
    "    def __init__(self,r):\n",
    "        self.radius = r\n",
    "        \n",
    "    def getArea(self):\n",
    "        return 3.14 * self.radius**2\n",
    "    \n",
    "    def getCircumference(self):\n",
    "        return 2 * 3.14 * self.radius\n",
    "    \n",
    "give_rad = float(input(\"Enter the Radius: \"))\n",
    "C = Circle(give_rad)\n",
    "print(C.getArea())\n",
    "print(C.getCircumference())  "
   ]
  },
  {
   "cell_type": "code",
   "execution_count": 2,
   "metadata": {},
   "outputs": [
    {
     "name": "stdout",
     "output_type": "stream",
     "text": [
      "Input temperature in celsius: 40\n",
      "104.0\n",
      "Input temperature in fahrenheit: 104\n",
      "40.0\n"
     ]
    }
   ],
   "source": [
    "class Temperature:\n",
    "    \n",
    "    def __init__(self, temp):\n",
    "        self.temp = temp\n",
    "        \n",
    "    def convertFahrenheit(self):\n",
    "        result = float((9 * self.temp) / 5 + 32)\n",
    "        return result\n",
    "    \n",
    "    def convertCelsius(self):\n",
    "        result = float((self.temp - 32) * 5 / 9)\n",
    "        return result\n",
    "\n",
    "\n",
    "give_temp = float(input(\"Input temperature in celsius: \"))\n",
    "temp1 = Temperature(give_temp)\n",
    "print(temp1.convertFahrenheit())\n",
    "\n",
    "give_temp = float(input(\"Input temperature in fahrenheit: \"))\n",
    "temp1 = Temperature(give_temp)\n",
    "print(temp1.convertCelsius())"
   ]
  },
  {
   "cell_type": "code",
   "execution_count": 3,
   "metadata": {},
   "outputs": [],
   "source": [
    "class Student:\n",
    "    \n",
    "    def __init__(self,name,rn):\n",
    "        self.name = name\n",
    "        self.rn = rn\n",
    "        \n",
    "    def display(self,name,rn):\n",
    "        return self.name\n",
    "        return self.rn\n",
    "        \n",
    "    def setAge(self,age):\n",
    "        return self.age\n",
    "        \n",
    "    def setMarks(self,m1,m2):\n",
    "        return self.m1\n",
    "        return self.m2"
   ]
  }
 ],
 "metadata": {
  "kernelspec": {
   "display_name": "Python 3",
   "language": "python",
   "name": "python3"
  },
  "language_info": {
   "codemirror_mode": {
    "name": "ipython",
    "version": 3
   },
   "file_extension": ".py",
   "mimetype": "text/x-python",
   "name": "python",
   "nbconvert_exporter": "python",
   "pygments_lexer": "ipython3",
   "version": "3.8.5"
  }
 },
 "nbformat": 4,
 "nbformat_minor": 4
}
