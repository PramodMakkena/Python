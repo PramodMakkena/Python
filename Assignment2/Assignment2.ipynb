{
 "cells": [
  {
   "cell_type": "code",
   "execution_count": 1,
   "metadata": {},
   "outputs": [
    {
     "name": "stdout",
     "output_type": "stream",
     "text": [
      "Enter length(a) = 3\n",
      "Enter breadth(b) = 4\n",
      "Area of Rectangle: 12\n",
      "Perimeter of Rectangle: 14\n"
     ]
    }
   ],
   "source": [
    "def areaRect(a,b): \n",
    "    area = a * b \n",
    "    return area\n",
    "def periRect(a,b):\n",
    "    perimeter = 2 * (a + b)\n",
    "    return perimeter\n",
    "a = int(input(\"Enter length(a) = \"))\n",
    "b = int(input(\"Enter breadth(b) = \"))\n",
    "print(\"Area of Rectangle:\", areaRect(a,b))\n",
    "print(\"Perimeter of Rectangle:\", periRect(a,b))"
   ]
  },
  {
   "cell_type": "code",
   "execution_count": 2,
   "metadata": {},
   "outputs": [
    {
     "name": "stdout",
     "output_type": "stream",
     "text": [
      "Enter Radius(r) = 3\n",
      "Area of circle: 28.259999999999998\n",
      "circumference of circle: 18.84\n"
     ]
    }
   ],
   "source": [
    "def areaCir(r): \n",
    "    area = 3.14 * r * r \n",
    "    return area\n",
    "def circumCir(r):\n",
    "    perimeter = 2 * 3.14 * r\n",
    "    return perimeter\n",
    "r = int(input(\"Enter Radius(r) = \"))\n",
    "print(\"Area of circle:\", areaCir(r))\n",
    "print(\"circumference of circle:\", circumCir(r))"
   ]
  },
  {
   "cell_type": "code",
   "execution_count": 3,
   "metadata": {},
   "outputs": [
    {
     "name": "stdout",
     "output_type": "stream",
     "text": [
      "Enter the number : 4\n",
      "Enter the Exponent : 3\n",
      "Power of 2 given numbers is  64\n"
     ]
    }
   ],
   "source": [
    "def power(a,b):\n",
    "    \n",
    "    powerab = a ** b\n",
    "    return powerab\n",
    "\n",
    "a = int(input(\"Enter the number : \"))\n",
    "b = int(input(\"Enter the Exponent : \"))\n",
    "print(\"Power of 2 given numbers is \", power(a,b))"
   ]
  },
  {
   "cell_type": "code",
   "execution_count": 4,
   "metadata": {},
   "outputs": [
    {
     "name": "stdout",
     "output_type": "stream",
     "text": [
      "Enter age : 18\n",
      "eligible\n"
     ]
    },
    {
     "data": {
      "text/plain": [
       "18"
      ]
     },
     "execution_count": 4,
     "metadata": {},
     "output_type": "execute_result"
    }
   ],
   "source": [
    "def voteOrNot(n):\n",
    "    if n >= 18:\n",
    "        print(\"eligible\")\n",
    "    else:\n",
    "        print(\"Not eligible\")\n",
    "    return n\n",
    "    \n",
    "n = int(input(\"Enter age : \"))\n",
    "voteOrNot(n)"
   ]
  }
 ],
 "metadata": {
  "kernelspec": {
   "display_name": "Python 3",
   "language": "python",
   "name": "python3"
  },
  "language_info": {
   "codemirror_mode": {
    "name": "ipython",
    "version": 3
   },
   "file_extension": ".py",
   "mimetype": "text/x-python",
   "name": "python",
   "nbconvert_exporter": "python",
   "pygments_lexer": "ipython3",
   "version": "3.8.5"
  }
 },
 "nbformat": 4,
 "nbformat_minor": 4
}
