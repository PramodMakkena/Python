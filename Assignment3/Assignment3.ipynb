{
 "cells": [
  {
   "cell_type": "code",
   "execution_count": 1,
   "metadata": {},
   "outputs": [],
   "source": [
    "file = open('para.txt','w')\n",
    "file.write('An old man tired of him. he was always gloomy, he constantly complained.')\n",
    "file.close()\n",
    "#Creation of file and Writing a para and closing it"
   ]
  },
  {
   "cell_type": "code",
   "execution_count": 2,
   "metadata": {},
   "outputs": [
    {
     "name": "stdout",
     "output_type": "stream",
     "text": [
      "An old man tired of him. he was always gloomy, he constantly complained.\n"
     ]
    }
   ],
   "source": [
    "file = open('para.txt', 'r')\n",
    "print(file.readline())\n",
    "#reading the first line"
   ]
  },
  {
   "cell_type": "code",
   "execution_count": 3,
   "metadata": {},
   "outputs": [],
   "source": [
    "file = open('para.txt','a')\n",
    "file.write('Nobody knows how he felt from inside. He always caused troubles outside, but was kind at heart')\n",
    "file.close()\n",
    "#Appending the file with more data"
   ]
  },
  {
   "cell_type": "code",
   "execution_count": 4,
   "metadata": {},
   "outputs": [
    {
     "name": "stdout",
     "output_type": "stream",
     "text": [
      "An old man tired of him. he was always gloomy, he constantly complained.Nobody knows how he felt from inside. He always caused troubles outside, but was kind at heart\n"
     ]
    }
   ],
   "source": [
    "file = open('para.txt', 'r')\n",
    "print(file.readline())\n",
    "#reading the appended file"
   ]
  },
  {
   "cell_type": "code",
   "execution_count": 6,
   "metadata": {},
   "outputs": [],
   "source": [
    "f = open(\"Desktop/Python/Pramod\", \"r\")"
   ]
  },
  {
   "cell_type": "code",
   "execution_count": 8,
   "metadata": {},
   "outputs": [],
   "source": [
    "import os\n",
    "os.remove('Desktop/Python/Pramod')"
   ]
  }
 ],
 "metadata": {
  "kernelspec": {
   "display_name": "Python 3",
   "language": "python",
   "name": "python3"
  },
  "language_info": {
   "codemirror_mode": {
    "name": "ipython",
    "version": 3
   },
   "file_extension": ".py",
   "mimetype": "text/x-python",
   "name": "python",
   "nbconvert_exporter": "python",
   "pygments_lexer": "ipython3",
   "version": "3.8.5"
  }
 },
 "nbformat": 4,
 "nbformat_minor": 4
}
