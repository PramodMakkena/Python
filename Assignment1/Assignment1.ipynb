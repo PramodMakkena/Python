{
 "cells": [
  {
   "cell_type": "code",
   "execution_count": 1,
   "metadata": {},
   "outputs": [
    {
     "name": "stdout",
     "output_type": "stream",
     "text": [
      "Enter a number: 2\n",
      "Number 2 is Positive Integer\n"
     ]
    }
   ],
   "source": [
    "###CHECK IF NUMBER IS POSITIVE OR NOT###\n",
    "#Method1\n",
    "x = int(input('Enter a number: '))\n",
    "if x>0:\n",
    "    print('Number',x,'is Positive Integer')\n",
    "elif x == 0:\n",
    "    print('Number is Zero')\n",
    "else:\n",
    "    print('Number',x,'is Negative Integer')"
   ]
  },
  {
   "cell_type": "code",
   "execution_count": 2,
   "metadata": {},
   "outputs": [
    {
     "name": "stdout",
     "output_type": "stream",
     "text": [
      "Enter a number: -2\n",
      "Number -2 is Negative Integer\n"
     ]
    }
   ],
   "source": [
    "#Method2\n",
    "x = int(input('Enter a number: '))\n",
    "print('Number',x,'is Positive Integer') if x>0 else print('Number is Zero') if x == 0 else print('Number',x,'is Negative Integer')"
   ]
  },
  {
   "cell_type": "code",
   "execution_count": 3,
   "metadata": {},
   "outputs": [
    {
     "name": "stdout",
     "output_type": "stream",
     "text": [
      "Enter a number: 2\n",
      "Number 2 is Even\n"
     ]
    }
   ],
   "source": [
    "###CHECK WHETHER NUMBER IS EVEN OR ODD\"\n",
    "#Method1\n",
    "x = int(input('Enter a number: '))\n",
    "if x%2 == 0:\n",
    "    print('Number',x,'is Even')\n",
    "else:\n",
    "    print('Number',x,'is Odd')"
   ]
  },
  {
   "cell_type": "code",
   "execution_count": 4,
   "metadata": {},
   "outputs": [
    {
     "name": "stdout",
     "output_type": "stream",
     "text": [
      "Enter a number: 3\n",
      "Number 3 is Odd\n"
     ]
    }
   ],
   "source": [
    "#Method2\n",
    "x = int(input('Enter a number: '))\n",
    "print('Number',x,'is Even') if x%2 == 0 else print('Number',x,'is Odd')"
   ]
  },
  {
   "cell_type": "code",
   "execution_count": 5,
   "metadata": {},
   "outputs": [
    {
     "name": "stdout",
     "output_type": "stream",
     "text": [
      "Enter a Year: 2014\n",
      "This is not a Leap year\n"
     ]
    }
   ],
   "source": [
    "#CHECK IF THE YEAR IS LEAP OR NOT\"\n",
    "#Method1\n",
    "x = int(input('Enter a Year: '))\n",
    "if x%4 == 0:\n",
    "    print('This is Leap Year')\n",
    "else:\n",
    "    print('This is not a Leap year')"
   ]
  },
  {
   "cell_type": "code",
   "execution_count": 6,
   "metadata": {},
   "outputs": [
    {
     "name": "stdout",
     "output_type": "stream",
     "text": [
      "Enter a Year: 2016\n",
      "This is Leap Year\n"
     ]
    }
   ],
   "source": [
    "#Method2\n",
    "x = int(input('Enter a Year: '))\n",
    "print('This is Leap Year') if x%4 == 0 else print('This is not a Leap year')"
   ]
  },
  {
   "cell_type": "code",
   "execution_count": 7,
   "metadata": {},
   "outputs": [
    {
     "name": "stdout",
     "output_type": "stream",
     "text": [
      "Enter the value of x: 3\n",
      "Enter the value of y: 4\n",
      "Enter the value of z: 5\n",
      "5 is the biggest Number\n"
     ]
    }
   ],
   "source": [
    "###PRINT BIGGEST OF 3 NUMBERS###\n",
    "#Method1\n",
    "x = int(input('Enter the value of x: '))\n",
    "y = int(input('Enter the value of y: '))\n",
    "z = int(input('Enter the value of z: '))\n",
    "if x>y and y>z:\n",
    "    print(x,' is the biggest Number')\n",
    "elif y>z and y>x:\n",
    "    print(y,'is the biggest Number')\n",
    "else:\n",
    "    print(z,'is the biggest Number')"
   ]
  },
  {
   "cell_type": "code",
   "execution_count": 8,
   "metadata": {},
   "outputs": [
    {
     "name": "stdout",
     "output_type": "stream",
     "text": [
      "Enter the value of x: 5\n",
      "Enter the value of y: 4\n",
      "Enter the value of z: 3\n",
      "5 is the biggest Number\n"
     ]
    }
   ],
   "source": [
    "#Method2\n",
    "x = int(input('Enter the value of x: '))\n",
    "y = int(input('Enter the value of y: '))\n",
    "z = int(input('Enter the value of z: '))\n",
    "print(x,'is the biggest Number') if x>y and y>z else print(y,'is the biggest Number') if y>z and y>x else print(z,'is the biggest Number')"
   ]
  },
  {
   "cell_type": "code",
   "execution_count": 9,
   "metadata": {},
   "outputs": [
    {
     "name": "stdout",
     "output_type": "stream",
     "text": [
      "Enter a number: 7\n",
      "The factorial of the value 7 is: 5040\n"
     ]
    }
   ],
   "source": [
    "###FACTORIAL OF A GIVEN NUMBER###\n",
    "x = int(input('Enter a number: '))\n",
    "fact = 1\n",
    "if x < 0:\n",
    "    print('Factorial Does not Exist')\n",
    "elif x == 0:\n",
    "    print('The factorial of 0 is 1')\n",
    "else:\n",
    "    for i in range(1,x + 1):\n",
    "        fact = fact*i\n",
    "    print(\"The factorial of the value\",x,\"is:\",fact)"
   ]
  },
  {
   "cell_type": "code",
   "execution_count": 10,
   "metadata": {},
   "outputs": [],
   "source": [
    "###Take a number print the last 10 digits(using for and while)###\n",
    "#I am really not sure about this but is it I have to consider a long int value or Find the last 10 digits of a String"
   ]
  },
  {
   "cell_type": "code",
   "execution_count": null,
   "metadata": {},
   "outputs": [],
   "source": []
  }
 ],
 "metadata": {
  "kernelspec": {
   "display_name": "Python 3",
   "language": "python",
   "name": "python3"
  },
  "language_info": {
   "codemirror_mode": {
    "name": "ipython",
    "version": 3
   },
   "file_extension": ".py",
   "mimetype": "text/x-python",
   "name": "python",
   "nbconvert_exporter": "python",
   "pygments_lexer": "ipython3",
   "version": "3.7.6"
  }
 },
 "nbformat": 4,
 "nbformat_minor": 4
}
